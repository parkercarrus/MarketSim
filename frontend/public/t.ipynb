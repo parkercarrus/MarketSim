{
 "cells": [
  {
   "cell_type": "code",
   "execution_count": 1,
   "id": "6ba41e13",
   "metadata": {},
   "outputs": [],
   "source": [
    "from PIL import Image, ImageDraw\n",
    "\n",
    "# Open the image\n",
    "image = Image.open(\"favicon.png\").convert(\"RGBA\")\n",
    "\n",
    "# Create a mask for rounded corners\n",
    "width, height = image.size\n",
    "radius = min(width, height) // 4  # Adjust the radius as needed\n",
    "mask = Image.new(\"L\", (width, height), 0)\n",
    "draw = ImageDraw.Draw(mask)\n",
    "draw.rounded_rectangle((0, 0, width, height), radius=radius, fill=255)\n",
    "\n",
    "# Apply the mask to the image\n",
    "rounded_image = Image.new(\"RGBA\", (width, height))\n",
    "rounded_image.paste(image, (0, 0), mask)\n",
    "\n",
    "# Save the result\n",
    "rounded_image.save(\"favicon_rounded.png\")"
   ]
  }
 ],
 "metadata": {
  "kernelspec": {
   "display_name": "base",
   "language": "python",
   "name": "python3"
  },
  "language_info": {
   "codemirror_mode": {
    "name": "ipython",
    "version": 3
   },
   "file_extension": ".py",
   "mimetype": "text/x-python",
   "name": "python",
   "nbconvert_exporter": "python",
   "pygments_lexer": "ipython3",
   "version": "3.12.7"
  }
 },
 "nbformat": 4,
 "nbformat_minor": 5
}
